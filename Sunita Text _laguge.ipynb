{
 "cells": [
  {
   "cell_type": "code",
   "execution_count": 2,
   "id": "5945b377-5fe5-4be4-beed-943985771fa9",
   "metadata": {},
   "outputs": [
    {
     "name": "stdout",
     "output_type": "stream",
     "text": [
      "Collecting gTTSNote: you may need to restart the kernel to use updated packages.\n",
      "\n",
      "  Downloading gTTS-2.5.1-py3-none-any.whl.metadata (4.1 kB)\n",
      "Requirement already satisfied: requests<3,>=2.27 in c:\\users\\dell\\anaconda3\\lib\\site-packages (from gTTS) (2.31.0)\n",
      "Requirement already satisfied: click<8.2,>=7.1 in c:\\users\\dell\\anaconda3\\lib\\site-packages (from gTTS) (8.1.7)\n",
      "Requirement already satisfied: colorama in c:\\users\\dell\\anaconda3\\lib\\site-packages (from click<8.2,>=7.1->gTTS) (0.4.6)\n",
      "Requirement already satisfied: charset-normalizer<4,>=2 in c:\\users\\dell\\anaconda3\\lib\\site-packages (from requests<3,>=2.27->gTTS) (2.0.4)\n",
      "Requirement already satisfied: idna<4,>=2.5 in c:\\users\\dell\\anaconda3\\lib\\site-packages (from requests<3,>=2.27->gTTS) (3.4)\n",
      "Requirement already satisfied: urllib3<3,>=1.21.1 in c:\\users\\dell\\anaconda3\\lib\\site-packages (from requests<3,>=2.27->gTTS) (2.0.7)\n",
      "Requirement already satisfied: certifi>=2017.4.17 in c:\\users\\dell\\anaconda3\\lib\\site-packages (from requests<3,>=2.27->gTTS) (2024.2.2)\n",
      "Downloading gTTS-2.5.1-py3-none-any.whl (29 kB)\n",
      "Installing collected packages: gTTS\n",
      "Successfully installed gTTS-2.5.1\n"
     ]
    }
   ],
   "source": [
    "pip install gTTS"
   ]
  },
  {
   "cell_type": "code",
   "execution_count": 10,
   "id": "481d9783-6f37-4026-b291-cf0d40753ba6",
   "metadata": {},
   "outputs": [
    {
     "data": {
      "text/plain": [
       "0"
      ]
     },
     "execution_count": 10,
     "metadata": {},
     "output_type": "execute_result"
    }
   ],
   "source": [
    "from gtts import gTTS\n",
    "import os\n",
    "\n",
    "text_to_speak = '''MY favorite teacher is saravana'''\n",
    "\n",
    "language = 'en'  # 'en' for English, you can change it to other supported languages\n",
    "\n",
    "tts = gTTS(text=text_to_speak, lang=language, slow=False)\n",
    "tts.speed = 1.5\n",
    "\n",
    "\n",
    "tts.save(\"output.mp3\")\n",
    "\n",
    "os.system(\"start output.mp3\")  # This command opens the default audio player"
   ]
  },
  {
   "cell_type": "code",
   "execution_count": 11,
   "id": "87ef08cd-05a5-4c61-8d58-6e926455d1a8",
   "metadata": {},
   "outputs": [
    {
     "name": "stdout",
     "output_type": "stream",
     "text": [
      "Collecting translateNote: you may need to restart the kernel to use updated packages.\n",
      "\n",
      "  Downloading translate-3.6.1-py2.py3-none-any.whl.metadata (7.7 kB)\n",
      "Collecting langdetect\n",
      "  Downloading langdetect-1.0.9.tar.gz (981 kB)\n",
      "     ---------------------------------------- 0.0/981.5 kB ? eta -:--:--\n",
      "     ---------------------------------------- 10.2/981.5 kB ? eta -:--:--\n",
      "     ---- --------------------------------- 122.9/981.5 kB 1.4 MB/s eta 0:00:01\n",
      "     --------------- ---------------------- 399.4/981.5 kB 3.1 MB/s eta 0:00:01\n",
      "     ------------------------ ------------- 645.1/981.5 kB 3.7 MB/s eta 0:00:01\n",
      "     ------------------------------------ - 942.1/981.5 kB 4.3 MB/s eta 0:00:01\n",
      "     -------------------------------------- 981.5/981.5 kB 3.9 MB/s eta 0:00:00\n",
      "  Preparing metadata (setup.py): started\n",
      "  Preparing metadata (setup.py): finished with status 'done'\n",
      "Requirement already satisfied: click in c:\\users\\dell\\anaconda3\\lib\\site-packages (from translate) (8.1.7)\n",
      "Requirement already satisfied: lxml in c:\\users\\dell\\anaconda3\\lib\\site-packages (from translate) (4.9.3)\n",
      "Requirement already satisfied: requests in c:\\users\\dell\\anaconda3\\lib\\site-packages (from translate) (2.31.0)\n",
      "Collecting libretranslatepy==2.1.1 (from translate)\n",
      "  Downloading libretranslatepy-2.1.1-py3-none-any.whl.metadata (233 bytes)\n",
      "Requirement already satisfied: six in c:\\users\\dell\\anaconda3\\lib\\site-packages (from langdetect) (1.16.0)\n",
      "Requirement already satisfied: colorama in c:\\users\\dell\\anaconda3\\lib\\site-packages (from click->translate) (0.4.6)\n",
      "Requirement already satisfied: charset-normalizer<4,>=2 in c:\\users\\dell\\anaconda3\\lib\\site-packages (from requests->translate) (2.0.4)\n",
      "Requirement already satisfied: idna<4,>=2.5 in c:\\users\\dell\\anaconda3\\lib\\site-packages (from requests->translate) (3.4)\n",
      "Requirement already satisfied: urllib3<3,>=1.21.1 in c:\\users\\dell\\anaconda3\\lib\\site-packages (from requests->translate) (2.0.7)\n",
      "Requirement already satisfied: certifi>=2017.4.17 in c:\\users\\dell\\anaconda3\\lib\\site-packages (from requests->translate) (2024.2.2)\n",
      "Downloading translate-3.6.1-py2.py3-none-any.whl (12 kB)\n",
      "Downloading libretranslatepy-2.1.1-py3-none-any.whl (3.2 kB)\n",
      "Building wheels for collected packages: langdetect\n",
      "  Building wheel for langdetect (setup.py): started\n",
      "  Building wheel for langdetect (setup.py): finished with status 'done'\n",
      "  Created wheel for langdetect: filename=langdetect-1.0.9-py3-none-any.whl size=993253 sha256=a726cdc5072a57aa6fda07e8fa1b9458b305748e7dc92fc84ee27e8f292db269\n",
      "  Stored in directory: c:\\users\\dell\\appdata\\local\\pip\\cache\\wheels\\0a\\f2\\b2\\e5ca405801e05eb7c8ed5b3b4bcf1fcabcd6272c167640072e\n",
      "Successfully built langdetect\n",
      "Installing collected packages: libretranslatepy, langdetect, translate\n",
      "Successfully installed langdetect-1.0.9 libretranslatepy-2.1.1 translate-3.6.1\n"
     ]
    }
   ],
   "source": [
    "pip install translate langdetect"
   ]
  },
  {
   "cell_type": "code",
   "execution_count": 12,
   "id": "fe31280f-f099-4085-8b42-1ba749c56712",
   "metadata": {},
   "outputs": [],
   "source": [
    "from langdetect import detect,detect_langs\n",
    "from translate import Translator"
   ]
  },
  {
   "cell_type": "code",
   "execution_count": 13,
   "id": "b7c48ef7-fa3c-41f8-9c4a-79a8c46c5dbe",
   "metadata": {},
   "outputs": [
    {
     "name": "stdout",
     "output_type": "stream",
     "text": [
      "es\n",
      "nl\n"
     ]
    }
   ],
   "source": [
    "text_to_translate = \"Hola, ¿cómo estás?\"\n",
    "target_language_code = 'en'\n",
    "print(detect(text_to_translate))\n",
    "print(detect(target_language_code))"
   ]
  },
  {
   "cell_type": "code",
   "execution_count": 15,
   "id": "8601abbc-3192-4c30-8b35-6f43f02679c0",
   "metadata": {},
   "outputs": [
    {
     "data": {
      "text/plain": [
       "[fi:0.5714267211965436, pl:0.28571552261949, cy:0.14285643427495526]"
      ]
     },
     "execution_count": 15,
     "metadata": {},
     "output_type": "execute_result"
    }
   ],
   "source": [
    "detect_langs(\"Otec matka syn.\")"
   ]
  },
  {
   "cell_type": "code",
   "execution_count": 16,
   "id": "ad16ae47-69f9-457a-85ba-947ee70d6bd9",
   "metadata": {},
   "outputs": [
    {
     "data": {
      "text/plain": [
       "'Hello, how are you?'"
      ]
     },
     "execution_count": 16,
     "metadata": {},
     "output_type": "execute_result"
    }
   ],
   "source": [
    "translator = Translator(to_lang='en', from_lang='es')\n",
    "translated_text = translator.translate(text_to_translate)\n",
    "translated_text"
   ]
  },
  {
   "cell_type": "code",
   "execution_count": 17,
   "id": "bfa5c223-123b-456a-8895-98ae6244903c",
   "metadata": {},
   "outputs": [
    {
     "data": {
      "text/plain": [
       "'Exelente boy camino del travajo y tu que haces princesa hermosa'"
      ]
     },
     "execution_count": 17,
     "metadata": {},
     "output_type": "execute_result"
    }
   ],
   "source": [
    "translator = Translator(to_lang='es', from_lang='en')\n",
    "translated_text2 = translator.translate(text_to_translate)\n",
    "translated_text2"
   ]
  },
  {
   "cell_type": "code",
   "execution_count": 18,
   "id": "bbd4c6f7-a32d-44e1-a0ab-fb8e543a523f",
   "metadata": {},
   "outputs": [],
   "source": [
    "def detect_and_translate(text, target_language='en'):\n",
    "    try:\n",
    "        source_language = detect(text)\n",
    "\n",
    "        translator = Translator(to_lang=target_language, from_lang=source_language)\n",
    "        translated_text = translator.translate(text)\n",
    "\n",
    "        return source_language, translated_text\n",
    "\n",
    "    except Exception as e:\n",
    "        print(f\"Error: {e}\")\n",
    "        return None, None"
   ]
  },
  {
   "cell_type": "code",
   "execution_count": 19,
   "id": "d69da06b-e4ee-4f02-919a-63fc5c505b75",
   "metadata": {},
   "outputs": [
    {
     "name": "stdout",
     "output_type": "stream",
     "text": [
      "Source Language: es\n",
      "Translated Text: Hola, ¿cómo estás?\n"
     ]
    }
   ],
   "source": [
    "source_language, translated_text = detect_and_translate(translated_text2, target_language='en')\n",
    "\n",
    "if source_language and translated_text:\n",
    "    print(f\"Source Language: {source_language}\")\n",
    "    print(f\"Translated Text: {translated_text}\")\n",
    "else:\n",
    "    print(\"Language detection and translation failed.\")"
   ]
  },
  {
   "cell_type": "code",
   "execution_count": null,
   "id": "925f0b4b-d4a2-404b-ac77-1982f06c68b3",
   "metadata": {},
   "outputs": [],
   "source": []
  }
 ],
 "metadata": {
  "kernelspec": {
   "display_name": "Python 3 (ipykernel)",
   "language": "python",
   "name": "python3"
  },
  "language_info": {
   "codemirror_mode": {
    "name": "ipython",
    "version": 3
   },
   "file_extension": ".py",
   "mimetype": "text/x-python",
   "name": "python",
   "nbconvert_exporter": "python",
   "pygments_lexer": "ipython3",
   "version": "3.11.7"
  }
 },
 "nbformat": 4,
 "nbformat_minor": 5
}
